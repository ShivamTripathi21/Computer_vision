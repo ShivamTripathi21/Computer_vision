{
 "cells": [
  {
   "cell_type": "code",
   "execution_count": 1,
   "metadata": {
    "collapsed": true
   },
   "outputs": [],
   "source": [
    "import numpy as np\n",
    "from numpy import array,transpose,dot,shape\n",
    "import matplotlib.pyplot as plt\n",
    "%matplotlib inline \n",
    "from numpy.linalg import inv"
   ]
  },
  {
   "cell_type": "code",
   "execution_count": 2,
   "metadata": {
    "collapsed": true
   },
   "outputs": [],
   "source": [
    "x=array([[1,1,1,1,1,1,1,1,1,1,1,1],[1,2,3,4,5,6,7,8,9,10,11,12]])\n",
    "x=transpose(x)\n",
    "# y as a price in 1000 usd\n",
    "y=array([[2,2,2,2.3,2.6,2.8,3,2.8,2.6,2.3,2,2]])\n",
    "y=transpose(y)\n",
    "z=array([[1,2,3,4,5,6,7,8,9,10,11,12]])\n",
    "z=transpose(z)"
   ]
  },
  {
   "cell_type": "code",
   "execution_count": 3,
   "metadata": {},
   "outputs": [
    {
     "name": "stdout",
     "output_type": "stream",
     "text": [
      "[[ 1  1]\n",
      " [ 1  2]\n",
      " [ 1  3]\n",
      " [ 1  4]\n",
      " [ 1  5]\n",
      " [ 1  6]\n",
      " [ 1  7]\n",
      " [ 1  8]\n",
      " [ 1  9]\n",
      " [ 1 10]\n",
      " [ 1 11]\n",
      " [ 1 12]] \n",
      "[[ 2. ]\n",
      " [ 2. ]\n",
      " [ 2. ]\n",
      " [ 2.3]\n",
      " [ 2.6]\n",
      " [ 2.8]\n",
      " [ 3. ]\n",
      " [ 2.8]\n",
      " [ 2.6]\n",
      " [ 2.3]\n",
      " [ 2. ]\n",
      " [ 2. ]] \n",
      "[[ 1]\n",
      " [ 2]\n",
      " [ 3]\n",
      " [ 4]\n",
      " [ 5]\n",
      " [ 6]\n",
      " [ 7]\n",
      " [ 8]\n",
      " [ 9]\n",
      " [10]\n",
      " [11]\n",
      " [12]] \n",
      "\n"
     ]
    }
   ],
   "source": [
    "print x,'\\n',y,'\\n',z,'\\n'"
   ]
  },
  {
   "cell_type": "code",
   "execution_count": 4,
   "metadata": {},
   "outputs": [
    {
     "data": {
      "image/png": "[encoded data removed]",
      "text/plain": [
       "<matplotlib.figure.Figure at 0x7f9b867dd950>"
      ]
     },
     "metadata": {},
     "output_type": "display_data"
    }
   ],
   "source": [
    "plt.figure()\n",
    "plt.title(\"housing price\")\n",
    "plt.xlabel(\"living area\")\n",
    "plt.ylabel(\"price in 1000 usd \")\n",
    "plt.plot(z,y,'k.')\n",
    "plt.axis([0,15,0,4])\n",
    "plt.show()"
   ]
  },
  {
   "cell_type": "code",
   "execution_count": 5,
   "metadata": {},
   "outputs": [
    {
     "name": "stdout",
     "output_type": "stream",
     "text": [
      "[[ 0.88648649]\n",
      " [ 0.31891892]]\n"
     ]
    }
   ],
   "source": [
    "def weight(z,target):\n",
    "    t=z-target\n",
    "    # 1.2 considered bandwidth value\n",
    "    return np.exp((-(t * t)/(2 * 0.1 * 0.1)))\n",
    "\n",
    "\n",
    "def gradient_descent(x,y,z,target):\n",
    "    # m is number of trainning set\n",
    "    # n no fo features\n",
    "    n=shape(x)[1]\n",
    "    m=shape(x)[0] # also shape(y)[0]\n",
    "    t=np.ones((n,1)) # matrix like [[1],[1]]\n",
    "    for i in range(0,4000):\n",
    "        s=(dot(x,t))-y\n",
    "        #for locally weighted regression\n",
    "        wt=weight(z,target)\n",
    "        s=s * wt\n",
    "        l=dot(transpose(x),s)\n",
    "        t=t - ((0.01 * l)/(m))\n",
    "    \n",
    "    return t\n",
    "\n",
    "theta=gradient_descent(x,y,z,6)\n",
    "\n",
    "def prediction(x):\n",
    "    return theta[0] + (theta[1]*x)\n",
    "\n",
    "\n",
    "\n",
    "print theta"
   ]
  },
  {
   "cell_type": "code",
   "execution_count": 6,
   "metadata": {},
   "outputs": [
    {
     "data": {
      "image/png": "[encoded data removed]",
      "text/plain": [
       "<matplotlib.figure.Figure at 0x7f9b834942d0>"
      ]
     },
     "metadata": {},
     "output_type": "display_data"
    }
   ],
   "source": [
    "plt.figure()\n",
    "plt.title(\"housing price\")\n",
    "plt.xlabel(\"living area\")\n",
    "plt.ylabel(\"price in 1000 usd \")\n",
    "plt.plot(z,y,'k.')\n",
    "xx=np.linspace(0,15)\n",
    "plt.axis([0,15,0,4])\n",
    "yy=prediction(xx.reshape(xx.shape[0],1))\n",
    "plt.plot(xx,yy)\n",
    "plt.show();\n"
   ]
  },
  {
   "cell_type": "code",
   "execution_count": 7,
   "metadata": {},
   "outputs": [
    {
     "name": "stdout",
     "output_type": "stream",
     "text": [
      "[[ 2.26666667]\n",
      " [ 0.01538462]]\n"
     ]
    }
   ],
   "source": [
    "def parameter(x,y):\n",
    "    l=dot(inv(dot(transpose(x),x)),dot(transpose(x),y))\n",
    "    return l\n",
    "\n",
    "l=parameter(x,y)\n",
    "\n",
    "def predict(x):\n",
    "    return l[0] + (l[1]*x)\n",
    "\n",
    "print l"
   ]
  },
  {
   "cell_type": "code",
   "execution_count": 8,
   "metadata": {},
   "outputs": [
    {
     "data": {
      "image/png": "[encoded data removed]",
      "text/plain": [
       "<matplotlib.figure.Figure at 0x7f9b832d4290>"
      ]
     },
     "metadata": {},
     "output_type": "display_data"
    }
   ],
   "source": [
    "plt.figure()\n",
    "plt.title(\"housing price\")\n",
    "plt.xlabel(\"living area\")\n",
    "plt.ylabel(\"price in 1000 usd \")\n",
    "plt.plot(z,y,'k.')\n",
    "xx=np.linspace(0,15)\n",
    "plt.axis([0,15,0,4])\n",
    "yy=predict(xx.reshape(xx.shape[0],1))\n",
    "plt.plot(xx,yy)\n",
    "plt.show();\n"
   ]
  },
  {
   "cell_type": "code",
   "execution_count": null,
   "metadata": {
    "collapsed": true
   },
   "outputs": [],
   "source": []
  }
 ],
 "metadata": {
  "kernelspec": {
   "display_name": "Python 2",
   "language": "python",
   "name": "python2"
  },
  "language_info": {
   "codemirror_mode": {
    "name": "ipython",
    "version": 2
   },
   "file_extension": ".py",
   "mimetype": "text/x-python",
   "name": "python",
   "nbconvert_exporter": "python",
   "pygments_lexer": "ipython2",
   "version": "2.7.13"
  }
 },
 "nbformat": 4,
 "nbformat_minor": 2
}
