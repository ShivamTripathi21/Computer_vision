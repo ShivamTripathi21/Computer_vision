{
 "cells": [
  {
   "cell_type": "code",
   "execution_count": 1,
   "metadata": {
    "collapsed": true
   },
   "outputs": [],
   "source": [
    "import numpy as np\n",
    "from numpy import array,shape,transpose,dot\n",
    "from numpy.linalg import inv\n",
    "import matplotlib.pyplot as plt\n",
    "%matplotlib inline"
   ]
  },
  {
   "cell_type": "code",
   "execution_count": 2,
   "metadata": {},
   "outputs": [
    {
     "name": "stdout",
     "output_type": "stream",
     "text": [
      "[[21 18]\n",
      " [23 16]\n",
      " [22 21]\n",
      " [24 20]\n",
      " [19 22]\n",
      " [26 31]\n",
      " [27 40]\n",
      " [29 39]\n",
      " [18 18]\n",
      " [20 18]\n",
      " [30 38]] \n",
      "(11, 2) \n",
      "[[0]\n",
      " [0]\n",
      " [0]\n",
      " [1]\n",
      " [0]\n",
      " [1]\n",
      " [1]\n",
      " [1]\n",
      " [0]\n",
      " [0]\n",
      " [1]]\n"
     ]
    }
   ],
   "source": [
    "x=array([[21,18],[23,16],[22,21],[24,20],[19,22],[26,31],[27,40],[29,39],[18,18],[20,18],[30,38]])\n",
    "y=array([[0,0,0,1,0,1,1,1,0,0,1]])\n",
    "y=transpose(y)\n",
    "print x,'\\n',shape(x),'\\n',y"
   ]
  },
  {
   "cell_type": "code",
   "execution_count": 3,
   "metadata": {},
   "outputs": [
    {
     "data": {
      "image/png": "[encoded data removed]",
      "text/plain": [
       "<matplotlib.figure.Figure at 0x7f01763d4ed0>"
      ]
     },
     "metadata": {},
     "output_type": "display_data"
    }
   ],
   "source": [
    "plt.scatter(x[:,0],x[:,1],c=y)\n",
    "plt.show()"
   ]
  },
  {
   "cell_type": "code",
   "execution_count": 4,
   "metadata": {},
   "outputs": [
    {
     "name": "stdout",
     "output_type": "stream",
     "text": [
      "[[ 1.]\n",
      " [ 1.]\n",
      " [ 1.]\n",
      " [ 1.]\n",
      " [ 1.]\n",
      " [ 1.]\n",
      " [ 1.]\n",
      " [ 1.]\n",
      " [ 1.]\n",
      " [ 1.]\n",
      " [ 1.]]\n"
     ]
    }
   ],
   "source": [
    "z=np.ones((11,1))\n",
    "print z"
   ]
  },
  {
   "cell_type": "code",
   "execution_count": 5,
   "metadata": {},
   "outputs": [
    {
     "name": "stdout",
     "output_type": "stream",
     "text": [
      "[[ 21.  18.   1.]\n",
      " [ 23.  16.   1.]\n",
      " [ 22.  21.   1.]\n",
      " [ 24.  20.   1.]\n",
      " [ 19.  22.   1.]\n",
      " [ 26.  31.   1.]\n",
      " [ 27.  40.   1.]\n",
      " [ 29.  39.   1.]\n",
      " [ 18.  18.   1.]\n",
      " [ 20.  18.   1.]\n",
      " [ 30.  38.   1.]]\n"
     ]
    }
   ],
   "source": [
    "x=np.append(x, z, axis=1)\n",
    "print x"
   ]
  },
  {
   "cell_type": "code",
   "execution_count": 6,
   "metadata": {},
   "outputs": [
    {
     "name": "stdout",
     "output_type": "stream",
     "text": [
      "[[  1.  21.  18.]\n",
      " [  1.  23.  16.]\n",
      " [  1.  22.  21.]\n",
      " [  1.  24.  20.]\n",
      " [  1.  19.  22.]\n",
      " [  1.  26.  31.]\n",
      " [  1.  27.  40.]\n",
      " [  1.  29.  39.]\n",
      " [  1.  18.  18.]\n",
      " [  1.  20.  18.]\n",
      " [  1.  30.  38.]]\n"
     ]
    }
   ],
   "source": [
    "x=np.roll(x,1)\n",
    "print x"
   ]
  },
  {
   "cell_type": "code",
   "execution_count": 7,
   "metadata": {
    "collapsed": true
   },
   "outputs": [],
   "source": [
    "# create function for gradient descent\n",
    "def gradient_descent(x,y):\n",
    "    # m is number of trainning set\n",
    "    # n no fo features\n",
    "    n=shape(x)[1]\n",
    "    m=shape(x)[0] # also shape(y)[0]\n",
    "    t=np.ones((n,1)) # matrix like [[1],[1]]\n",
    "    for i in range(0,100000):\n",
    "        log=1 / (1 + (np.exp(-(dot(x,t)))))\n",
    "        s=log-y\n",
    "        l=dot(transpose(x),s)\n",
    "        t=t - ((0.05 * l)/(m))\n",
    "    \n",
    "    return t\n",
    "\n",
    "\n",
    "#how to determine value of alpha"
   ]
  },
  {
   "cell_type": "code",
   "execution_count": 8,
   "metadata": {},
   "outputs": [
    {
     "name": "stdout",
     "output_type": "stream",
     "text": [
      "[[-40.73218196]\n",
      " [  1.46826435]\n",
      " [  0.3197336 ]]\n"
     ]
    }
   ],
   "source": [
    "parm=gradient_descent(x,y)\n",
    "print parm"
   ]
  },
  {
   "cell_type": "code",
   "execution_count": 9,
   "metadata": {
    "collapsed": true
   },
   "outputs": [],
   "source": [
    "def prediction(parm,x):\n",
    "    return 1/(1+ np.exp(-(dot(transpose(parm),x))))\n",
    "\n"
   ]
  },
  {
   "cell_type": "code",
   "execution_count": 10,
   "metadata": {},
   "outputs": [
    {
     "name": "stdout",
     "output_type": "stream",
     "text": [
      "[[ 1]\n",
      " [22]\n",
      " [25]]\n"
     ]
    }
   ],
   "source": [
    "a=array([[1],[22],[25]])\n",
    "print a"
   ]
  },
  {
   "cell_type": "code",
   "execution_count": 11,
   "metadata": {},
   "outputs": [
    {
     "name": "stdout",
     "output_type": "stream",
     "text": [
      "[[ 0.39244975]]\n"
     ]
    }
   ],
   "source": [
    "print prediction(parm,a)"
   ]
  },
  {
   "cell_type": "code",
   "execution_count": 12,
   "metadata": {
    "collapsed": true
   },
   "outputs": [],
   "source": [
    "def line(x):\n",
    "    return (-(parm[0] + (parm[1]*x))) / parm[2]\n"
   ]
  },
  {
   "cell_type": "code",
   "execution_count": 13,
   "metadata": {},
   "outputs": [
    {
     "data": {
      "image/png": "[encoded data removed]",
      "text/plain": [
       "<matplotlib.figure.Figure at 0x7f0173095e10>"
      ]
     },
     "metadata": {},
     "output_type": "display_data"
    }
   ],
   "source": [
    "plt.scatter(x[:,1],x[:,2],c=y)\n",
    "xx=np.linspace(15,35)\n",
    "plt.axis([17,32.5,15,41])\n",
    "yy=line(xx.reshape(xx.shape[0],1))\n",
    "plt.scatter(20.5,18.8,c='g')\n",
    "plt.scatter(27.2,33.6,c='r')\n",
    "plt.plot(xx,yy)\n",
    "plt.show()"
   ]
  },
  {
   "cell_type": "code",
   "execution_count": 14,
   "metadata": {},
   "outputs": [
    {
     "name": "stdout",
     "output_type": "stream",
     "text": [
      "[[ 0.999964]]\n"
     ]
    }
   ],
   "source": [
    "a=array([[1],[26],[40]])\n",
    "print prediction(parm,a)"
   ]
  },
  {
   "cell_type": "code",
   "execution_count": 17,
   "metadata": {},
   "outputs": [],
   "source": [
    "def prob(y):\n",
    "    m=np.shape(y)[0]#no of trainning set\n",
    "    prob=np.empty([m,2])\n",
    "    k=0\n",
    "    for i in range(0,2):\n",
    "        for j in range(0,m):\n",
    "            if(y[j] == k):\n",
    "                prob[j][i]=1\n",
    "            else:\n",
    "                prob[j][i]=0\n",
    "        k=k+1\n",
    "    \n",
    "    return prob"
   ]
  },
  {
   "cell_type": "code",
   "execution_count": 18,
   "metadata": {},
   "outputs": [
    {
     "name": "stdout",
     "output_type": "stream",
     "text": [
      "[[ 1.  0.]\n",
      " [ 1.  0.]\n",
      " [ 1.  0.]\n",
      " [ 0.  1.]\n",
      " [ 1.  0.]\n",
      " [ 0.  1.]\n",
      " [ 0.  1.]\n",
      " [ 0.  1.]\n",
      " [ 1.  0.]\n",
      " [ 1.  0.]\n",
      " [ 0.  1.]]\n"
     ]
    }
   ],
   "source": [
    "print prob(y)"
   ]
  },
  {
   "cell_type": "code",
   "execution_count": 19,
   "metadata": {
    "collapsed": true
   },
   "outputs": [],
   "source": [
    "def hypothesis(x,y):\n",
    "    n=np.shape(x)[1]#no of parameter\n",
    "    m=np.shape(x)[0]#no of trainning set\n",
    "    pro=prob(y)\n",
    "    t=np.zeros((n,2))\n",
    "    for i in range(0,50000):\n",
    "        nu=np.exp(-(dot(x,t)))\n",
    "        de=transpose(array([[sum(nu[i]) for i in range(m)]]))\n",
    "        log=nu/de\n",
    "        l=pro-log\n",
    "        s=dot(transpose(x),l)\n",
    "        #l=dot(transpose(x),s)\n",
    "        t=t - ((0.5 * s)/(m))\n",
    "    \n",
    "    return t"
   ]
  },
  {
   "cell_type": "code",
   "execution_count": 20,
   "metadata": {},
   "outputs": [
    {
     "name": "stdout",
     "output_type": "stream",
     "text": [
      "[[-242.61274962  242.61274962]\n",
      " [   7.47013613   -7.47013613]\n",
      " [   3.45396721   -3.45396721]] \n",
      "3.4539672096\n"
     ]
    }
   ],
   "source": [
    "k=hypothesis(x,y)\n",
    "print k,'\\n',k[2][0]"
   ]
  },
  {
   "cell_type": "code",
   "execution_count": 23,
   "metadata": {
    "collapsed": true
   },
   "outputs": [],
   "source": [
    "def pred(x):\n",
    "    l=dot(transpose(k),x)\n",
    "    l=np.exp(l)\n",
    "    su=0\n",
    "    for i in range(0,2):\n",
    "        su=su+l[i]\n",
    "    \n",
    "    return l/su"
   ]
  },
  {
   "cell_type": "code",
   "execution_count": 24,
   "metadata": {},
   "outputs": [
    {
     "name": "stdout",
     "output_type": "stream",
     "text": [
      "[[  1.00000000e+00]\n",
      " [  1.06468696e-78]]\n"
     ]
    }
   ],
   "source": [
    "print pred([[1],[26],[40]])"
   ]
  },
  {
   "cell_type": "code",
   "execution_count": 28,
   "metadata": {
    "collapsed": true
   },
   "outputs": [],
   "source": [
    "def line1(x):\n",
    "    return (-(k[0][0] + (k[1][0]*x))) / k[2][0]\n",
    "\n",
    "def line2(x):\n",
    "    return (-(k[0][1] + (k[1][1]*x))) / k[2][1]"
   ]
  },
  {
   "cell_type": "code",
   "execution_count": 31,
   "metadata": {},
   "outputs": [
    {
     "data": {
      "image/png": "[encoded data removed]",
      "text/plain": [
       "<matplotlib.figure.Figure at 0x7f0172fc2490>"
      ]
     },
     "metadata": {},
     "output_type": "display_data"
    }
   ],
   "source": [
    "plt.scatter(x[:,1],x[:,2],c=y)\n",
    "xx=np.linspace(15,35)\n",
    "plt.axis([17,32.5,15,41])\n",
    "yy=line1(xx.reshape(xx.shape[0],1))\n",
    "yyy=line2(xx.reshape(xx.shape[0],1))\n",
    "plt.plot(xx,yy)\n",
    "plt.plot(xx,yyy)\n",
    "\n",
    "plt.show()"
   ]
  },
  {
   "cell_type": "code",
   "execution_count": null,
   "metadata": {
    "collapsed": true
   },
   "outputs": [],
   "source": []
  }
 ],
 "metadata": {
  "kernelspec": {
   "display_name": "Python 2",
   "language": "python",
   "name": "python2"
  },
  "language_info": {
   "codemirror_mode": {
    "name": "ipython",
    "version": 2
   },
   "file_extension": ".py",
   "mimetype": "text/x-python",
   "name": "python",
   "nbconvert_exporter": "python",
   "pygments_lexer": "ipython2",
   "version": "2.7.13"
  }
 },
 "nbformat": 4,
 "nbformat_minor": 2
}
