{
 "cells": [
  {
   "cell_type": "code",
   "execution_count": 4,
   "metadata": {
    "collapsed": true
   },
   "outputs": [],
   "source": [
    "import numpy as np\n",
    "from nltk.corpus import wordnet as wn"
   ]
  },
  {
   "cell_type": "code",
   "execution_count": 5,
   "metadata": {},
   "outputs": [],
   "source": [
    "panda = wn.synset('panda.n.01')\n",
    "hyper = lambda s: s.hypernyms()"
   ]
  },
  {
   "cell_type": "code",
   "execution_count": 6,
   "metadata": {},
   "outputs": [
    {
     "data": {
      "text/plain": [
       "[Synset('procyonid.n.01'),\n",
       " Synset('carnivore.n.01'),\n",
       " Synset('placental.n.01'),\n",
       " Synset('mammal.n.01'),\n",
       " Synset('vertebrate.n.01'),\n",
       " Synset('chordate.n.01'),\n",
       " Synset('animal.n.01'),\n",
       " Synset('organism.n.01'),\n",
       " Synset('living_thing.n.01'),\n",
       " Synset('whole.n.02'),\n",
       " Synset('object.n.01'),\n",
       " Synset('physical_entity.n.01'),\n",
       " Synset('entity.n.01')]"
      ]
     },
     "execution_count": 6,
     "metadata": {},
     "output_type": "execute_result"
    }
   ],
   "source": [
    "list(panda.closure(hyper))"
   ]
  },
  {
   "cell_type": "code",
   "execution_count": 10,
   "metadata": {},
   "outputs": [
    {
     "name": "stdout",
     "output_type": "stream",
     "text": [
      "(n) good\n",
      "(n) good, goodness\n",
      "(n) good, goodness\n",
      "(n) commodity, trade_good, good\n",
      "(a) good\n",
      "(s) full, good\n",
      "(a) good\n",
      "(s) estimable, good, honorable, respectable\n",
      "(s) beneficial, good\n",
      "(s) good\n",
      "(s) good, just, upright\n",
      "(s) adept, expert, good, practiced, proficient, skillful, skilful\n",
      "(s) good\n",
      "(s) dear, good, near\n",
      "(s) dependable, good, safe, secure\n",
      "(s) good, right, ripe\n",
      "(s) good, well\n",
      "(s) effective, good, in_effect, in_force\n",
      "(s) good\n",
      "(s) good, serious\n",
      "(s) good, sound\n",
      "(s) good, salutary\n",
      "(s) good, honest\n",
      "(s) good, undecomposed, unspoiled, unspoilt\n",
      "(s) good\n",
      "(r) well, good\n",
      "(r) thoroughly, soundly, good\n"
     ]
    }
   ],
   "source": [
    "for synset in wn.synsets('good'):\n",
    "    print \"(%s)\" % synset.pos(),\n",
    "    print \", \".join([l.name() for l in synset.lemmas()])"
   ]
  },
  {
   "cell_type": "code",
   "execution_count": null,
   "metadata": {
    "collapsed": true
   },
   "outputs": [],
   "source": []
  }
 ],
 "metadata": {
  "kernelspec": {
   "display_name": "Python 2",
   "language": "python",
   "name": "python2"
  },
  "language_info": {
   "codemirror_mode": {
    "name": "ipython",
    "version": 2
   },
   "file_extension": ".py",
   "mimetype": "text/x-python",
   "name": "python",
   "nbconvert_exporter": "python",
   "pygments_lexer": "ipython2",
   "version": "2.7.13"
  }
 },
 "nbformat": 4,
 "nbformat_minor": 2
}
