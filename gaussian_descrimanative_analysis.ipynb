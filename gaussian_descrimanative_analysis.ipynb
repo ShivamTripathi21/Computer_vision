{
 "cells": [
  {
   "cell_type": "code",
   "execution_count": 1,
   "metadata": {
    "collapsed": true
   },
   "outputs": [],
   "source": [
    "import numpy as np\n",
    "from numpy import array,shape,transpose,dot\n",
    "from numpy.linalg import inv,det\n",
    "import matplotlib.pyplot as plt\n",
    "%matplotlib inline"
   ]
  },
  {
   "cell_type": "code",
   "execution_count": 2,
   "metadata": {},
   "outputs": [
    {
     "name": "stdout",
     "output_type": "stream",
     "text": [
      "[[21 18]\n",
      " [23 16]\n",
      " [22 21]\n",
      " [24 20]\n",
      " [19 22]\n",
      " [26 31]\n",
      " [27 40]\n",
      " [29 39]\n",
      " [18 18]\n",
      " [20 18]\n",
      " [30 38]\n",
      " [28 35]\n",
      " [20 25]\n",
      " [27 30]\n",
      " [29 34]\n",
      " [27 36]\n",
      " [21 28]\n",
      " [30 25]\n",
      " [27 29]\n",
      " [28 29]] \n",
      "(20, 2) \n",
      "[[0]\n",
      " [0]\n",
      " [0]\n",
      " [1]\n",
      " [0]\n",
      " [1]\n",
      " [1]\n",
      " [1]\n",
      " [0]\n",
      " [0]\n",
      " [1]\n",
      " [1]\n",
      " [0]\n",
      " [1]\n",
      " [1]\n",
      " [1]\n",
      " [0]\n",
      " [1]\n",
      " [1]\n",
      " [1]]\n"
     ]
    }
   ],
   "source": [
    "x=array([[21,18],[23,16],[22,21],[24,20],[19,22],[26,31],[27,40],[29,39],[18,18],[20,18],[30,38],[28,35],[20,25],[27,30],[29,34],[27,36],[21,28],[30,25],[27,29],[28,29]])\n",
    "y=array([[0,0,0,1,0,1,1,1,0,0,1,1,0,1,1,1,0,1,1,1]])\n",
    "y=transpose(y)\n",
    "print x,'\\n',shape(x),'\\n',y"
   ]
  },
  {
   "cell_type": "code",
   "execution_count": 3,
   "metadata": {},
   "outputs": [
    {
     "data": {
      "image/png": "[encoded data removed]",
      "text/plain": [
       "<matplotlib.figure.Figure at 0x7f2ad2d06890>"
      ]
     },
     "metadata": {},
     "output_type": "display_data"
    }
   ],
   "source": [
    "plt.scatter(x[:,0],x[:,1],c=y)\n",
    "plt.show()"
   ]
  },
  {
   "cell_type": "code",
   "execution_count": 4,
   "metadata": {
    "collapsed": true
   },
   "outputs": [],
   "source": [
    "from __future__ import division\n",
    "def phi(y):\n",
    "    m=np.shape(y)[0]\n",
    "    l=0;\n",
    "    for i in range(0,m):\n",
    "        if(y[i] == 1):\n",
    "            l=l+1\n",
    "    return float(l / m)"
   ]
  },
  {
   "cell_type": "code",
   "execution_count": 5,
   "metadata": {},
   "outputs": [
    {
     "name": "stdout",
     "output_type": "stream",
     "text": [
      "0.6\n"
     ]
    }
   ],
   "source": [
    "print float(phi(y))\n",
    "p=phi(y)"
   ]
  },
  {
   "cell_type": "code",
   "execution_count": 6,
   "metadata": {
    "collapsed": true
   },
   "outputs": [],
   "source": [
    "def mean(x,y):\n",
    "    m=np.shape(y)[0]\n",
    "    n=np.shape(x)[1]\n",
    "    t1=np.zeros((1,n))\n",
    "    t2=np.zeros((1,n))\n",
    "    s=0\n",
    "    t=0\n",
    "    for i in range(0,m):\n",
    "        if(y[i] == 0):\n",
    "            t1[0][0]=t1[0][0]+x[i][0]\n",
    "            t1[0][1]=t1[0][1]+x[i][1]\n",
    "            s=s+1\n",
    "        else:\n",
    "            t2[0][0]=t2[0][0]+x[i][0]\n",
    "            t2[0][1]=t2[0][1]+x[i][1]\n",
    "            t=t+1\n",
    "    t1=transpose(t1)\n",
    "    t2=transpose(t2)\n",
    "    return t1/s,t2/t"
   ]
  },
  {
   "cell_type": "code",
   "execution_count": 7,
   "metadata": {},
   "outputs": [
    {
     "name": "stdout",
     "output_type": "stream",
     "text": [
      "(array([[ 20.5 ],\n",
      "       [ 20.75]]), array([[ 27.66666667],\n",
      "       [ 32.16666667]]))\n"
     ]
    }
   ],
   "source": [
    "print mean(x,y)"
   ]
  },
  {
   "cell_type": "code",
   "execution_count": 8,
   "metadata": {
    "collapsed": true
   },
   "outputs": [],
   "source": [
    "def cov1(x,y):\n",
    "    m=np.shape(y)[0]\n",
    "    \n",
    "    r=x-transpose(mean(x,y)[0])\n",
    "    return dot(transpose(r),r)/m\n",
    "\n",
    "def cov2(x,y):\n",
    "    m=np.shape(y)[0]\n",
    "    \n",
    "    r=x-transpose(mean(x,y)[1])\n",
    "    return dot(transpose(r),r)/m\n",
    "    "
   ]
  },
  {
   "cell_type": "code",
   "execution_count": 9,
   "metadata": {},
   "outputs": [
    {
     "name": "stdout",
     "output_type": "stream",
     "text": [
      "[[ 20.5 ]\n",
      " [ 20.75]] \n",
      "[[ 27.66666667]\n",
      " [ 32.16666667]] \n",
      "\n",
      "[[  33.35     51.375 ]\n",
      " [  51.375   103.7625]] \n",
      "\n",
      "[[ 23.07777778  35.01111111]\n",
      " [ 35.01111111  77.69444444]]\n"
     ]
    }
   ],
   "source": [
    "\n",
    "t1=mean(x,y)[0]\n",
    "t2=mean(x,y)[1]\n",
    "\n",
    "print t1,'\\n',t2,'\\n'\n",
    "\n",
    "print cov1(x,y),'\\n'\n",
    "print cov2(x,y)\n",
    "c1=cov1(x,y)\n",
    "c2=cov2(x,y)"
   ]
  },
  {
   "cell_type": "code",
   "execution_count": 19,
   "metadata": {},
   "outputs": [
    {
     "data": {
      "image/png": "[encoded data removed]",
      "text/plain": [
       "<matplotlib.figure.Figure at 0x7f2acee9ded0>"
      ]
     },
     "metadata": {},
     "output_type": "display_data"
    }
   ],
   "source": [
    "m1 = [20.5, 20.75]\n",
    "m2 = [27.66666667, 32.16666667]\n",
    "co1 =cov1(x,y) # diagonal covariance\n",
    "co2 =cov2(x,y)\n",
    "plt.scatter(x[:,0],x[:,1],c=y)\n",
    "plt.scatter( mean(x,y)[0][0], mean(x,y)[0][1],c='b')\n",
    "plt.scatter( mean(x,y)[1][0], mean(x,y)[1][1],c='r')\n",
    "r, s = np.random.multivariate_normal(m1, co1, 20).T\n",
    "u, v = np.random.multivariate_normal(m2, co2, 20).T\n",
    "plt.axis([15,32,10,41])\n",
    "plt.plot(r, s, 'x')\n",
    "plt.plot(u, v, 'x')\n",
    "plt.show()"
   ]
  },
  {
   "cell_type": "code",
   "execution_count": 14,
   "metadata": {
    "collapsed": true
   },
   "outputs": [],
   "source": [
    "def prob(x):\n",
    "    l1=(1/((2*3.14)*(det(c1))))*( np.exp( (-(1/2)) * dot(dot(transpose(x-t1),inv(c1)),x-t1) ))\n",
    "    l2=(1/((2*3.14)*(det(c2))))*( np.exp( (-(1/2))* dot(dot(transpose(x-t2),inv(c2)),x-t2)  ))\n",
    "            \n",
    "    return (l1*p)/((l1*p)+(l2*(1-p)))"
   ]
  },
  {
   "cell_type": "code",
   "execution_count": 15,
   "metadata": {},
   "outputs": [
    {
     "name": "stdout",
     "output_type": "stream",
     "text": [
      "[[28]\n",
      " [35]]\n"
     ]
    }
   ],
   "source": [
    "l=array([[28],[35]])\n",
    "print l"
   ]
  },
  {
   "cell_type": "code",
   "execution_count": 16,
   "metadata": {},
   "outputs": [
    {
     "name": "stdout",
     "output_type": "stream",
     "text": [
      "[[ 0.30095565]]\n"
     ]
    }
   ],
   "source": [
    "print prob(l)"
   ]
  },
  {
   "cell_type": "code",
   "execution_count": null,
   "metadata": {
    "collapsed": true
   },
   "outputs": [],
   "source": []
  }
 ],
 "metadata": {
  "kernelspec": {
   "display_name": "Python 2",
   "language": "python",
   "name": "python2"
  },
  "language_info": {
   "codemirror_mode": {
    "name": "ipython",
    "version": 2
   },
   "file_extension": ".py",
   "mimetype": "text/x-python",
   "name": "python",
   "nbconvert_exporter": "python",
   "pygments_lexer": "ipython2",
   "version": "2.7.13"
  }
 },
 "nbformat": 4,
 "nbformat_minor": 2
}
