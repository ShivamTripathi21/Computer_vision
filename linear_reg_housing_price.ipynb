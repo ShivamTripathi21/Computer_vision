{
 "cells": [
  {
   "cell_type": "code",
   "execution_count": null,
   "metadata": {
    "scrolled": true
   },
   "outputs": [
    {
     "name": "stderr",
     "output_type": "stream",
     "text": [
      "/home/sat/anaconda2/envs/tensorflow/lib/python2.7/site-packages/matplotlib/font_manager.py:281: UserWarning: Matplotlib is building the font cache using fc-list. This may take a moment.\n",
      "  'Matplotlib is building the font cache using fc-list. '\n"
     ]
    }
   ],
   "source": [
    "import numpy as np\n",
    "import matplotlib.pyplot as plt\n",
    "from numpy import transpose\n",
    "%matplotlib inline"
   ]
  },
  {
   "cell_type": "code",
   "execution_count": 4,
   "metadata": {
    "scrolled": true
   },
   "outputs": [],
   "source": [
    "a=np.array([[1,1,1],[34,5,5]])\n",
    "a=transpose(a)"
   ]
  },
  {
   "cell_type": "code",
   "execution_count": 5,
   "metadata": {
    "scrolled": true
   },
   "outputs": [
    {
     "name": "stdout",
     "output_type": "stream",
     "text": [
      "[[ 1 34]\n",
      " [ 1  5]\n",
      " [ 1  5]]\n"
     ]
    }
   ],
   "source": [
    "print a"
   ]
  },
  {
   "cell_type": "code",
   "execution_count": 6,
   "metadata": {
    "collapsed": true,
    "scrolled": true
   },
   "outputs": [],
   "source": [
    "b=np.array([[3,5,8]])\n",
    "b=transpose(b)"
   ]
  },
  {
   "cell_type": "code",
   "execution_count": 7,
   "metadata": {
    "scrolled": true
   },
   "outputs": [
    {
     "name": "stdout",
     "output_type": "stream",
     "text": [
      "[[3]\n",
      " [5]\n",
      " [8]]\n"
     ]
    }
   ],
   "source": [
    "print b"
   ]
  },
  {
   "cell_type": "code",
   "execution_count": 8,
   "metadata": {
    "scrolled": true
   },
   "outputs": [
    {
     "name": "stdout",
     "output_type": "stream",
     "text": [
      "[[ 1  1  1]\n",
      " [34  5  5]]\n"
     ]
    }
   ],
   "source": [
    "print np.transpose(a)"
   ]
  },
  {
   "cell_type": "code",
   "execution_count": 9,
   "metadata": {
    "collapsed": true,
    "scrolled": true
   },
   "outputs": [],
   "source": [
    "from numpy import dot,transpose,size,shape,array\n",
    "from numpy.linalg import inv"
   ]
  },
  {
   "cell_type": "code",
   "execution_count": 10,
   "metadata": {
    "collapsed": true,
    "scrolled": true
   },
   "outputs": [],
   "source": [
    "# x as a living area int feet^2\n",
    "x=array([[1,1,1,1,1],[2104,1416,1534,852,1940]])\n",
    "x=transpose(x)\n",
    "# y as a price in 1000 usd\n",
    "y=array([[400,232,315,178,240]])\n",
    "y=transpose(y)\n",
    "z=array([[2104,1416,1534,852,1940]])\n",
    "z=transpose(z)"
   ]
  },
  {
   "cell_type": "code",
   "execution_count": 11,
   "metadata": {
    "scrolled": true
   },
   "outputs": [
    {
     "name": "stdout",
     "output_type": "stream",
     "text": [
      "[[   1 2104]\n",
      " [   1 1416]\n",
      " [   1 1534]\n",
      " [   1  852]\n",
      " [   1 1940]] \n",
      "[[400]\n",
      " [232]\n",
      " [315]\n",
      " [178]\n",
      " [240]] \n",
      "[[2104]\n",
      " [1416]\n",
      " [1534]\n",
      " [ 852]\n",
      " [1940]]\n"
     ]
    }
   ],
   "source": [
    "print x,'\\n',y,'\\n',z"
   ]
  },
  {
   "cell_type": "code",
   "execution_count": 12,
   "metadata": {
    "collapsed": true,
    "scrolled": true
   },
   "outputs": [],
   "source": [
    "# create function for gradient descent\n",
    "def gradient_descent(x,y):\n",
    "    # m is number of trainning set\n",
    "    # n no fo features\n",
    "    n=shape(x)[1]\n",
    "    m=shape(x)[0] # also shape(y)[0]\n",
    "    t=np.ones((n,1)) # matrix like [[1],[1]]\n",
    "    for i in range(0,100):\n",
    "        s=(dot(x,t))-y\n",
    "        l=dot(transpose(x),s)\n",
    "        t=t - ((0.0000001 * l)/(m))\n",
    "    \n",
    "    return t\n",
    "\n",
    "\n",
    "#how to determine value of alpha"
   ]
  },
  {
   "cell_type": "code",
   "execution_count": 13,
   "metadata": {
    "scrolled": true
   },
   "outputs": [
    {
     "name": "stdout",
     "output_type": "stream",
     "text": [
      "[[ 0.99955489]\n",
      " [ 0.17045689]]\n"
     ]
    }
   ],
   "source": [
    "theta=gradient_descent(x,y)\n",
    "print theta"
   ]
  },
  {
   "cell_type": "code",
   "execution_count": 14,
   "metadata": {
    "scrolled": true
   },
   "outputs": [
    {
     "data": {
      "image/png": "[encoded data removed]",
      "text/plain": [
       "<matplotlib.figure.Figure at 0x7fb72870bb50>"
      ]
     },
     "metadata": {},
     "output_type": "display_data"
    }
   ],
   "source": [
    "def prediction(x):\n",
    "    return theta[0] + (theta[1]*x)\n",
    "\n",
    "plt.figure()\n",
    "plt.title(\"housing price\")\n",
    "plt.xlabel(\"living area\")\n",
    "plt.ylabel(\"price in 1000 usd \")\n",
    "plt.plot(z,y,'k.')\n",
    "xx=np.linspace(800,3000)\n",
    "yy=prediction(xx.reshape(xx.shape[0],1))\n",
    "plt.plot(xx,yy)\n",
    "plt.show();\n"
   ]
  },
  {
   "cell_type": "code",
   "execution_count": 15,
   "metadata": {
    "collapsed": true,
    "scrolled": true
   },
   "outputs": [],
   "source": [
    "def parameter(x,y):\n",
    "    l=dot(inv(dot(transpose(x),x)),dot(transpose(x),y))\n",
    "    return l\n",
    "\n",
    "#this means normal equation"
   ]
  },
  {
   "cell_type": "code",
   "execution_count": 16,
   "metadata": {
    "scrolled": true
   },
   "outputs": [
    {
     "name": "stdout",
     "output_type": "stream",
     "text": [
      "[[ 63.3253144 ]\n",
      " [  0.13361884]]\n"
     ]
    }
   ],
   "source": [
    "l=parameter(x,y)\n",
    "print l"
   ]
  },
  {
   "cell_type": "code",
   "execution_count": 17,
   "metadata": {
    "collapsed": true,
    "scrolled": true
   },
   "outputs": [],
   "source": [
    "def predict(x):\n",
    "    return l[0] + (l[1]*x)"
   ]
  },
  {
   "cell_type": "code",
   "execution_count": 18,
   "metadata": {
    "scrolled": true
   },
   "outputs": [
    {
     "data": {
      "image/png": "[encoded data removed]",
      "text/plain": [
       "<matplotlib.figure.Figure at 0x7fb725394c90>"
      ]
     },
     "metadata": {},
     "output_type": "display_data"
    }
   ],
   "source": [
    "plt.figure()\n",
    "plt.title(\"housing price\")\n",
    "plt.xlabel(\"living area\")\n",
    "plt.ylabel(\"price in 1000 usd \")\n",
    "plt.plot(z,y,'k.')\n",
    "xx=np.linspace(800,3000)\n",
    "yy=predict(xx.reshape(xx.shape[0],1))\n",
    "plt.plot(xx,yy)\n",
    "plt.show();"
   ]
  },
  {
   "cell_type": "code",
   "execution_count": 19,
   "metadata": {
    "scrolled": true
   },
   "outputs": [
    {
     "name": "stdout",
     "output_type": "stream",
     "text": [
      "[[      1    2104 4426816]\n",
      " [      1    1416 2005056]\n",
      " [      1    1534 2353156]\n",
      " [      1     852  725904]\n",
      " [      1    1940 3763600]]\n"
     ]
    }
   ],
   "source": [
    "x=array([[1,1,1,1,1],[2104,1416,1534,852,1940],[4426816,2005056,2353156,725904,3763600]])\n",
    "x=transpose(x)\n",
    "print x"
   ]
  },
  {
   "cell_type": "code",
   "execution_count": 20,
   "metadata": {
    "collapsed": true,
    "scrolled": true
   },
   "outputs": [],
   "source": [
    "l=parameter(x,y)\n",
    "\n",
    "def predict_poly(x):\n",
    "    return l[0] + (l[1]*x) + (l[2]*x*x)\n",
    "\n"
   ]
  },
  {
   "cell_type": "code",
   "execution_count": 21,
   "metadata": {
    "scrolled": true
   },
   "outputs": [
    {
     "data": {
      "image/png": "[encoded data removed]",
      "text/plain": [
       "<matplotlib.figure.Figure at 0x7fb725337990>"
      ]
     },
     "metadata": {},
     "output_type": "display_data"
    }
   ],
   "source": [
    "plt.figure()\n",
    "plt.title(\"housing price\")\n",
    "plt.xlabel(\"living area\")\n",
    "plt.ylabel(\"price in 1000 usd \")\n",
    "plt.plot(z,y,'k.')\n",
    "xx=np.linspace(800,3000)\n",
    "yy=predict_poly(xx.reshape(xx.shape[0],1))\n",
    "plt.plot(xx,yy)\n",
    "plt.show();"
   ]
  },
  {
   "cell_type": "code",
   "execution_count": null,
   "metadata": {
    "collapsed": true,
    "scrolled": true
   },
   "outputs": [],
   "source": []
  }
 ],
 "metadata": {
  "kernelspec": {
   "display_name": "Python 2",
   "language": "python",
   "name": "python2"
  },
  "language_info": {
   "codemirror_mode": {
    "name": "ipython",
    "version": 2
   },
   "file_extension": ".py",
   "mimetype": "text/x-python",
   "name": "python",
   "nbconvert_exporter": "python",
   "pygments_lexer": "ipython2",
   "version": "2.7.14"
  }
 },
 "nbformat": 4,
 "nbformat_minor": 2
}
