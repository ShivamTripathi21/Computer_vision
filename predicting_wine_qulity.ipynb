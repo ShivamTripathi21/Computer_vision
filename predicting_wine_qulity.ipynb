{
 "cells": [
  {
   "cell_type": "code",
   "execution_count": 41,
   "metadata": {
    "collapsed": true
   },
   "outputs": [],
   "source": [
    "import pandas as pd"
   ]
  },
  {
   "cell_type": "code",
   "execution_count": 42,
   "metadata": {
    "collapsed": true
   },
   "outputs": [],
   "source": [
    "data=pd.read_csv(\"wine.csv\",';')"
   ]
  },
  {
   "cell_type": "code",
   "execution_count": 43,
   "metadata": {},
   "outputs": [
    {
     "data": {
      "text/html": [
       "<div>\n",
       "<style scoped>\n",
       "    .dataframe tbody tr th:only-of-type {\n",
       "        vertical-align: middle;\n",
       "    }\n",
       "\n",
       "    .dataframe tbody tr th {\n",
       "        vertical-align: top;\n",
       "    }\n",
       "\n",
       "    .dataframe thead th {\n",
       "        text-align: right;\n",
       "    }\n",
       "</style>\n",
       "<table border=\"1\" class=\"dataframe\">\n",
       "  <thead>\n",
       "    <tr style=\"text-align: right;\">\n",
       "      <th></th>\n",
       "      <th>fixed acidity</th>\n",
       "      <th>volatile acidity</th>\n",
       "      <th>citric acid</th>\n",
       "      <th>residual sugar</th>\n",
       "      <th>chlorides</th>\n",
       "      <th>free sulfur dioxide</th>\n",
       "      <th>total sulfur dioxide</th>\n",
       "      <th>density</th>\n",
       "      <th>pH</th>\n",
       "      <th>sulphates</th>\n",
       "      <th>alcohol</th>\n",
       "      <th>quality</th>\n",
       "    </tr>\n",
       "  </thead>\n",
       "  <tbody>\n",
       "    <tr>\n",
       "      <th>0</th>\n",
       "      <td>7.4</td>\n",
       "      <td>0.70</td>\n",
       "      <td>0.00</td>\n",
       "      <td>1.9</td>\n",
       "      <td>0.076</td>\n",
       "      <td>11.0</td>\n",
       "      <td>34.0</td>\n",
       "      <td>0.9978</td>\n",
       "      <td>3.51</td>\n",
       "      <td>0.56</td>\n",
       "      <td>9.4</td>\n",
       "      <td>5</td>\n",
       "    </tr>\n",
       "    <tr>\n",
       "      <th>1</th>\n",
       "      <td>7.8</td>\n",
       "      <td>0.88</td>\n",
       "      <td>0.00</td>\n",
       "      <td>2.6</td>\n",
       "      <td>0.098</td>\n",
       "      <td>25.0</td>\n",
       "      <td>67.0</td>\n",
       "      <td>0.9968</td>\n",
       "      <td>3.20</td>\n",
       "      <td>0.68</td>\n",
       "      <td>9.8</td>\n",
       "      <td>5</td>\n",
       "    </tr>\n",
       "    <tr>\n",
       "      <th>2</th>\n",
       "      <td>7.8</td>\n",
       "      <td>0.76</td>\n",
       "      <td>0.04</td>\n",
       "      <td>2.3</td>\n",
       "      <td>0.092</td>\n",
       "      <td>15.0</td>\n",
       "      <td>54.0</td>\n",
       "      <td>0.9970</td>\n",
       "      <td>3.26</td>\n",
       "      <td>0.65</td>\n",
       "      <td>9.8</td>\n",
       "      <td>5</td>\n",
       "    </tr>\n",
       "    <tr>\n",
       "      <th>3</th>\n",
       "      <td>11.2</td>\n",
       "      <td>0.28</td>\n",
       "      <td>0.56</td>\n",
       "      <td>1.9</td>\n",
       "      <td>0.075</td>\n",
       "      <td>17.0</td>\n",
       "      <td>60.0</td>\n",
       "      <td>0.9980</td>\n",
       "      <td>3.16</td>\n",
       "      <td>0.58</td>\n",
       "      <td>9.8</td>\n",
       "      <td>6</td>\n",
       "    </tr>\n",
       "    <tr>\n",
       "      <th>4</th>\n",
       "      <td>7.4</td>\n",
       "      <td>0.70</td>\n",
       "      <td>0.00</td>\n",
       "      <td>1.9</td>\n",
       "      <td>0.076</td>\n",
       "      <td>11.0</td>\n",
       "      <td>34.0</td>\n",
       "      <td>0.9978</td>\n",
       "      <td>3.51</td>\n",
       "      <td>0.56</td>\n",
       "      <td>9.4</td>\n",
       "      <td>5</td>\n",
       "    </tr>\n",
       "  </tbody>\n",
       "</table>\n",
       "</div>"
      ],
      "text/plain": [
       "   fixed acidity  volatile acidity  citric acid  residual sugar  chlorides  \\\n",
       "0            7.4              0.70         0.00             1.9      0.076   \n",
       "1            7.8              0.88         0.00             2.6      0.098   \n",
       "2            7.8              0.76         0.04             2.3      0.092   \n",
       "3           11.2              0.28         0.56             1.9      0.075   \n",
       "4            7.4              0.70         0.00             1.9      0.076   \n",
       "\n",
       "   free sulfur dioxide  total sulfur dioxide  density    pH  sulphates  \\\n",
       "0                 11.0                  34.0   0.9978  3.51       0.56   \n",
       "1                 25.0                  67.0   0.9968  3.20       0.68   \n",
       "2                 15.0                  54.0   0.9970  3.26       0.65   \n",
       "3                 17.0                  60.0   0.9980  3.16       0.58   \n",
       "4                 11.0                  34.0   0.9978  3.51       0.56   \n",
       "\n",
       "   alcohol  quality  \n",
       "0      9.4        5  \n",
       "1      9.8        5  \n",
       "2      9.8        5  \n",
       "3      9.8        6  \n",
       "4      9.4        5  "
      ]
     },
     "execution_count": 43,
     "metadata": {},
     "output_type": "execute_result"
    }
   ],
   "source": [
    "data.head()"
   ]
  },
  {
   "cell_type": "code",
   "execution_count": 44,
   "metadata": {},
   "outputs": [
    {
     "name": "stdout",
     "output_type": "stream",
     "text": [
      "0        7.4\n",
      "1        7.8\n",
      "2        7.8\n",
      "3       11.2\n",
      "4        7.4\n",
      "5        7.4\n",
      "6        7.9\n",
      "7        7.3\n",
      "8        7.8\n",
      "9        7.5\n",
      "10       6.7\n",
      "11       7.5\n",
      "12       5.6\n",
      "13       7.8\n",
      "14       8.9\n",
      "15       8.9\n",
      "16       8.5\n",
      "17       8.1\n",
      "18       7.4\n",
      "19       7.9\n",
      "20       8.9\n",
      "21       7.6\n",
      "22       7.9\n",
      "23       8.5\n",
      "24       6.9\n",
      "25       6.3\n",
      "26       7.6\n",
      "27       7.9\n",
      "28       7.1\n",
      "29       7.8\n",
      "        ... \n",
      "1569     6.2\n",
      "1570     6.4\n",
      "1571     6.4\n",
      "1572     7.3\n",
      "1573     6.0\n",
      "1574     5.6\n",
      "1575     7.5\n",
      "1576     8.0\n",
      "1577     6.2\n",
      "1578     6.8\n",
      "1579     6.2\n",
      "1580     7.4\n",
      "1581     6.2\n",
      "1582     6.1\n",
      "1583     6.2\n",
      "1584     6.7\n",
      "1585     7.2\n",
      "1586     7.5\n",
      "1587     5.8\n",
      "1588     7.2\n",
      "1589     6.6\n",
      "1590     6.3\n",
      "1591     5.4\n",
      "1592     6.3\n",
      "1593     6.8\n",
      "1594     6.2\n",
      "1595     5.9\n",
      "1596     6.3\n",
      "1597     5.9\n",
      "1598     6.0\n",
      "Name: fixed acidity, Length: 1599, dtype: float64\n"
     ]
    }
   ],
   "source": [
    "print data['fixed acidity']"
   ]
  },
  {
   "cell_type": "code",
   "execution_count": 45,
   "metadata": {
    "collapsed": true
   },
   "outputs": [],
   "source": [
    "import numpy as np\n",
    "from numpy import array,transpose,dot,shape\n",
    "from numpy.linalg import inv"
   ]
  },
  {
   "cell_type": "code",
   "execution_count": 46,
   "metadata": {
    "collapsed": true
   },
   "outputs": [],
   "source": [
    "A=array([data['fixed acidity'],data['volatile acidity'],data['residual sugar'],data['citric acid'],data['chlorides'],data['free sulfur dioxide'],data['total sulfur dioxide'],data['density'],data['pH'],data['sulphates'],data['alcohol']])"
   ]
  },
  {
   "cell_type": "code",
   "execution_count": 47,
   "metadata": {},
   "outputs": [
    {
     "name": "stdout",
     "output_type": "stream",
     "text": [
      "[[  7.4     7.8     7.8   ...,   6.3     5.9     6.   ]\n",
      " [  0.7     0.88    0.76  ...,   0.51    0.645   0.31 ]\n",
      " [  1.9     2.6     2.3   ...,   2.3     2.      3.6  ]\n",
      " ..., \n",
      " [  3.51    3.2     3.26  ...,   3.42    3.57    3.39 ]\n",
      " [  0.56    0.68    0.65  ...,   0.75    0.71    0.66 ]\n",
      " [  9.4     9.8     9.8   ...,  11.     10.2    11.   ]]\n"
     ]
    }
   ],
   "source": [
    "print A"
   ]
  },
  {
   "cell_type": "code",
   "execution_count": 48,
   "metadata": {
    "collapsed": true
   },
   "outputs": [],
   "source": [
    "z=np.ones((1599,1))\n"
   ]
  },
  {
   "cell_type": "code",
   "execution_count": 49,
   "metadata": {},
   "outputs": [
    {
     "name": "stdout",
     "output_type": "stream",
     "text": [
      "[[ 1.]\n",
      " [ 1.]\n",
      " [ 1.]\n",
      " ..., \n",
      " [ 1.]\n",
      " [ 1.]\n",
      " [ 1.]]\n"
     ]
    }
   ],
   "source": [
    "print z"
   ]
  },
  {
   "cell_type": "code",
   "execution_count": 50,
   "metadata": {
    "collapsed": true
   },
   "outputs": [],
   "source": [
    "A=transpose(A)"
   ]
  },
  {
   "cell_type": "code",
   "execution_count": 51,
   "metadata": {},
   "outputs": [
    {
     "name": "stdout",
     "output_type": "stream",
     "text": [
      "[[  7.4     0.7     1.9   ...,   3.51    0.56    9.4  ]\n",
      " [  7.8     0.88    2.6   ...,   3.2     0.68    9.8  ]\n",
      " [  7.8     0.76    2.3   ...,   3.26    0.65    9.8  ]\n",
      " ..., \n",
      " [  6.3     0.51    2.3   ...,   3.42    0.75   11.   ]\n",
      " [  5.9     0.645   2.    ...,   3.57    0.71   10.2  ]\n",
      " [  6.      0.31    3.6   ...,   3.39    0.66   11.   ]]\n",
      "\n",
      "(1599, 11)\n"
     ]
    }
   ],
   "source": [
    "print A\n",
    "print '\\n',shape(A)"
   ]
  },
  {
   "cell_type": "code",
   "execution_count": 52,
   "metadata": {},
   "outputs": [
    {
     "name": "stdout",
     "output_type": "stream",
     "text": [
      "[[  7.4     0.7     1.9   ...,   0.56    9.4     1.   ]\n",
      " [  7.8     0.88    2.6   ...,   0.68    9.8     1.   ]\n",
      " [  7.8     0.76    2.3   ...,   0.65    9.8     1.   ]\n",
      " ..., \n",
      " [  6.3     0.51    2.3   ...,   0.75   11.      1.   ]\n",
      " [  5.9     0.645   2.    ...,   0.71   10.2     1.   ]\n",
      " [  6.      0.31    3.6   ...,   0.66   11.      1.   ]]\n",
      "\n",
      "(1599, 12)\n"
     ]
    }
   ],
   "source": [
    "A=np.append(A, z, axis=1)\n",
    "print A\n",
    "print '\\n',shape(A)"
   ]
  },
  {
   "cell_type": "code",
   "execution_count": 53,
   "metadata": {},
   "outputs": [
    {
     "name": "stdout",
     "output_type": "stream",
     "text": [
      "[[  1.      7.4     0.7   ...,   3.51    0.56    9.4  ]\n",
      " [  1.      7.8     0.88  ...,   3.2     0.68    9.8  ]\n",
      " [  1.      7.8     0.76  ...,   3.26    0.65    9.8  ]\n",
      " ..., \n",
      " [  1.      6.3     0.51  ...,   3.42    0.75   11.   ]\n",
      " [  1.      5.9     0.645 ...,   3.57    0.71   10.2  ]\n",
      " [  1.      6.      0.31  ...,   3.39    0.66   11.   ]]\n"
     ]
    }
   ],
   "source": [
    "A=np.roll(A, 1)\n",
    "print A"
   ]
  },
  {
   "cell_type": "code",
   "execution_count": 54,
   "metadata": {},
   "outputs": [
    {
     "name": "stdout",
     "output_type": "stream",
     "text": [
      "[[  1.      7.4     0.7   ...,   3.51    0.56    9.4  ]\n",
      " [  1.      7.8     0.88  ...,   3.2     0.68    9.8  ]\n",
      " [  1.      7.8     0.76  ...,   3.26    0.65    9.8  ]\n",
      " ..., \n",
      " [  1.      6.3     0.51  ...,   3.42    0.75   11.   ]\n",
      " [  1.      5.9     0.645 ...,   3.57    0.71   10.2  ]\n",
      " [  1.      6.      0.31  ...,   3.39    0.66   11.   ]]\n",
      "\n",
      "(1599, 12)\n"
     ]
    }
   ],
   "source": [
    "print A\n",
    "print '\\n',shape(A)"
   ]
  },
  {
   "cell_type": "code",
   "execution_count": 55,
   "metadata": {},
   "outputs": [
    {
     "name": "stdout",
     "output_type": "stream",
     "text": [
      "[[5]\n",
      " [5]\n",
      " [5]\n",
      " ..., \n",
      " [6]\n",
      " [5]\n",
      " [6]]\n"
     ]
    }
   ],
   "source": [
    "B=array([data['quality']])\n",
    "B=transpose(B)\n",
    "print B"
   ]
  },
  {
   "cell_type": "code",
   "execution_count": 56,
   "metadata": {
    "scrolled": true
   },
   "outputs": [
    {
     "name": "stdout",
     "output_type": "stream",
     "text": [
      "The slowest run took 12.19 times longer than the fastest. This could mean that an intermediate result is being cached.\n",
      "10000 loops, best of 3: 44.7 µs per loop\n"
     ]
    }
   ],
   "source": [
    "import time\n",
    "def parameter(x,y):\n",
    "    l=dot(inv(dot(transpose(x),x)),dot(transpose(x),y))\n",
    "    return l\n",
    "\n",
    "\n",
    "%timeit parameter(A,B)"
   ]
  },
  {
   "cell_type": "code",
   "execution_count": 57,
   "metadata": {},
   "outputs": [
    {
     "name": "stdout",
     "output_type": "stream",
     "text": [
      "[[  2.19652084e+01]\n",
      " [  2.49905527e-02]\n",
      " [ -1.08359026e+00]\n",
      " [  1.63312698e-02]\n",
      " [ -1.82563948e-01]\n",
      " [ -1.87422516e+00]\n",
      " [  4.36133331e-03]\n",
      " [ -3.26457970e-03]\n",
      " [ -1.78811638e+01]\n",
      " [ -4.13653144e-01]\n",
      " [  9.16334413e-01]\n",
      " [  2.76197699e-01]]\n"
     ]
    }
   ],
   "source": [
    "l=parameter(A,B)\n",
    "print l"
   ]
  },
  {
   "cell_type": "code",
   "execution_count": 58,
   "metadata": {
    "collapsed": true
   },
   "outputs": [],
   "source": [
    "def predict(x,x0,x1,x2,x3,x4,x5,x6,x7,x8,x9,x10):\n",
    "    return l[0]*x + (l[1]*x0) + (l[2]*x1) + (l[3]*x2) + (l[4]*x3) + (l[5]*x4) + (l[6]*x5) + (l[7]*x6) + (l[8]*x7) + (l[9]*x8) + (l[10]*x9) + (l[11]*x10)"
   ]
  },
  {
   "cell_type": "code",
   "execution_count": 59,
   "metadata": {},
   "outputs": [
    {
     "name": "stdout",
     "output_type": "stream",
     "text": [
      "[ 6.03685581] is predicted value\n"
     ]
    }
   ],
   "source": [
    "print predict(1,7.9,0.35,0.46,3.6,0.078,15,37,0.9973,3.35,0.86,12.8),'is predicted value'"
   ]
  },
  {
   "cell_type": "code",
   "execution_count": 62,
   "metadata": {},
   "outputs": [
    {
     "name": "stdout",
     "output_type": "stream",
     "text": [
      "[[ 3.51]\n",
      " [ 3.2 ]\n",
      " [ 3.26]\n",
      " ..., \n",
      " [ 3.42]\n",
      " [ 3.57]\n",
      " [ 3.39]]\n"
     ]
    }
   ],
   "source": [
    "x=np.array([data['pH']])\n",
    "x=transpose(x)\n",
    "print x"
   ]
  },
  {
   "cell_type": "code",
   "execution_count": 67,
   "metadata": {},
   "outputs": [
    {
     "data": {
      "image/png": "[encoded data removed]",
      "text/plain": [
       "<matplotlib.figure.Figure at 0x7fc95715ea50>"
      ]
     },
     "metadata": {},
     "output_type": "display_data"
    }
   ],
   "source": [
    "import matplotlib.pyplot as plt\n",
    "import matplotlib.pyplot as plt\n",
    "from mpl_toolkits.mplot3d import Axes3D\n",
    "%matplotlib inline\n",
    "fig=plt.figure()\n",
    "ax = fig.add_subplot(111, projection='3d')\n",
    "y=np.array([data['free sulfur dioxide']])\n",
    "ax.scatter(x,y,B,c='r',marker='o')\n",
    "ax.set_title(\"housing price\")\n",
    "ax.set_xlabel(\"living area\")\n",
    "ax.set_ylabel(\"price in 1000 usd \")\n",
    "ax.set_zlabel(\"price in 1000 usd \")\n",
    "plt.show();\n"
   ]
  },
  {
   "cell_type": "code",
   "execution_count": null,
   "metadata": {
    "collapsed": true
   },
   "outputs": [],
   "source": []
  }
 ],
 "metadata": {
  "kernelspec": {
   "display_name": "Python 2",
   "language": "python",
   "name": "python2"
  },
  "language_info": {
   "codemirror_mode": {
    "name": "ipython",
    "version": 2
   },
   "file_extension": ".py",
   "mimetype": "text/x-python",
   "name": "python",
   "nbconvert_exporter": "python",
   "pygments_lexer": "ipython2",
   "version": "2.7.13"
  }
 },
 "nbformat": 4,
 "nbformat_minor": 2
}
