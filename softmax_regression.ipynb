{
 "cells": [
  {
   "cell_type": "code",
   "execution_count": 1,
   "metadata": {
    "collapsed": true
   },
   "outputs": [],
   "source": [
    "import numpy as np\n",
    "from numpy import array,shape,transpose,dot\n",
    "from numpy.linalg import inv\n",
    "import matplotlib.pyplot as plt\n",
    "%matplotlib inline"
   ]
  },
  {
   "cell_type": "code",
   "execution_count": 160,
   "metadata": {},
   "outputs": [
    {
     "name": "stdout",
     "output_type": "stream",
     "text": [
      "[[21 18]\n",
      " [23 16]\n",
      " [22 21]\n",
      " [24 20]\n",
      " [19 22]\n",
      " [26 31]\n",
      " [27 40]\n",
      " [29 39]\n",
      " [18 18]\n",
      " [20 18]\n",
      " [30 38]\n",
      " [26 21]\n",
      " [28 23]\n",
      " [28 20]\n",
      " [30 24]\n",
      " [29 23]] \n",
      "(16, 2) \n",
      "[[0]\n",
      " [0]\n",
      " [0]\n",
      " [1]\n",
      " [0]\n",
      " [1]\n",
      " [1]\n",
      " [1]\n",
      " [0]\n",
      " [0]\n",
      " [1]\n",
      " [2]\n",
      " [2]\n",
      " [2]\n",
      " [2]\n",
      " [2]] \n",
      "(16, 1)\n"
     ]
    }
   ],
   "source": [
    "x=array([[21,18],[23,16],[22,21],[24,20],[19,22],[26,31],[27,40],[29,39],[18,18],[20,18],[30,38],[26,21],[28,23],[28,20],[30,24],[29,23]])\n",
    "y=array([[0,0,0,1,0,1,1,1,0,0,1,2,2,2,2,2]])\n",
    "y=transpose(y)\n",
    "print x,'\\n',shape(x),'\\n',y,'\\n',shape(y)"
   ]
  },
  {
   "cell_type": "code",
   "execution_count": 161,
   "metadata": {},
   "outputs": [
    {
     "data": {
      "image/png": "[encoded data removed]",
      "text/plain": [
       "<matplotlib.figure.Figure at 0x7fa32bcbe810>"
      ]
     },
     "metadata": {},
     "output_type": "display_data"
    }
   ],
   "source": [
    "plt.scatter(x[:,0],x[:,1],c=y)\n",
    "plt.show()"
   ]
  },
  {
   "cell_type": "code",
   "execution_count": 162,
   "metadata": {},
   "outputs": [
    {
     "name": "stdout",
     "output_type": "stream",
     "text": [
      "[[ 1 21 18]\n",
      " [ 1 23 16]\n",
      " [ 1 22 21]\n",
      " [ 1 24 20]\n",
      " [ 1 19 22]\n",
      " [ 1 26 31]\n",
      " [ 1 27 40]\n",
      " [ 1 29 39]\n",
      " [ 1 18 18]\n",
      " [ 1 20 18]\n",
      " [ 1 30 38]\n",
      " [ 1 26 21]\n",
      " [ 1 28 23]\n",
      " [ 1 28 20]\n",
      " [ 1 30 24]\n",
      " [ 1 29 23]]\n"
     ]
    }
   ],
   "source": [
    "x=array([[1,21,18],[1,23,16],[1,22,21],[1,24,20],[1,19,22],[1,26,31],[1,27,40],[1,29,39],[1,18,18],[1,20,18],[1,30,38],[1,26,21],[1,28,23],[1,28,20],[1,30,24],[1,29,23]])\n",
    "print x"
   ]
  },
  {
   "cell_type": "code",
   "execution_count": 163,
   "metadata": {
    "collapsed": true
   },
   "outputs": [],
   "source": [
    "def prob(y):\n",
    "    m=np.shape(y)[0]#no of trainning set\n",
    "    prob=np.empty([m,3])\n",
    "    k=0\n",
    "    for i in range(0,3):\n",
    "        for j in range(0,m):\n",
    "            if(y[j] == k):\n",
    "                prob[j][i]=1\n",
    "            else:\n",
    "                prob[j][i]=0\n",
    "        k=k+1\n",
    "    \n",
    "    return prob"
   ]
  },
  {
   "cell_type": "code",
   "execution_count": 164,
   "metadata": {},
   "outputs": [
    {
     "name": "stdout",
     "output_type": "stream",
     "text": [
      "[[ 1.  0.  0.]\n",
      " [ 1.  0.  0.]\n",
      " [ 1.  0.  0.]\n",
      " [ 0.  1.  0.]\n",
      " [ 1.  0.  0.]\n",
      " [ 0.  1.  0.]\n",
      " [ 0.  1.  0.]\n",
      " [ 0.  1.  0.]\n",
      " [ 1.  0.  0.]\n",
      " [ 1.  0.  0.]\n",
      " [ 0.  1.  0.]\n",
      " [ 0.  0.  1.]\n",
      " [ 0.  0.  1.]\n",
      " [ 0.  0.  1.]\n",
      " [ 0.  0.  1.]\n",
      " [ 0.  0.  1.]]\n"
     ]
    }
   ],
   "source": [
    "print prob(y)"
   ]
  },
  {
   "cell_type": "code",
   "execution_count": 297,
   "metadata": {
    "collapsed": true
   },
   "outputs": [],
   "source": [
    "\n",
    "def hypothesis(x,y):\n",
    "    n=np.shape(x)[1]#no of parameter\n",
    "    m=np.shape(x)[0]#no of trainning set\n",
    "    pro=prob(y)\n",
    "    t=np.zeros((n,3))\n",
    "    for i in range(0,50000):\n",
    "        nu=np.exp(-(dot(x,t)))\n",
    "        de=transpose(array([[sum(nu[i]) for i in range(m)]]))\n",
    "        log=nu/de\n",
    "        l=pro-log\n",
    "        s=dot(transpose(x),l)\n",
    "        #l=dot(transpose(x),s)\n",
    "        t=t - ((0.5 * s)/(m))\n",
    "    \n",
    "    return t\n",
    "    "
   ]
  },
  {
   "cell_type": "code",
   "execution_count": 298,
   "metadata": {},
   "outputs": [
    {
     "name": "stdout",
     "output_type": "stream",
     "text": [
      "[[ -4.42795160e+02   1.30703432e+02   3.12091728e+02]\n",
      " [  1.79961612e+01   4.56187476e+00  -2.25580359e+01]\n",
      " [  4.20455056e-01  -1.24773564e+01   1.20569013e+01]] \n",
      "0.420455055623\n"
     ]
    }
   ],
   "source": [
    "k=hypothesis(x,y)\n",
    "print k,'\\n',k[2][0]"
   ]
  },
  {
   "cell_type": "code",
   "execution_count": 299,
   "metadata": {
    "collapsed": true
   },
   "outputs": [],
   "source": [
    "\n",
    "def pred(x):\n",
    "    l=dot(transpose(k),x)\n",
    "    l=np.exp(l)\n",
    "    su=0\n",
    "    for i in range(0,3):\n",
    "        su=su+l[i]\n",
    "    \n",
    "    return l/su"
   ]
  },
  {
   "cell_type": "code",
   "execution_count": 303,
   "metadata": {},
   "outputs": [
    {
     "name": "stdout",
     "output_type": "stream",
     "text": [
      "[[  9.99999998e-01]\n",
      " [  1.50451440e-09]\n",
      " [  4.02251884e-12]]\n"
     ]
    }
   ],
   "source": [
    "print pred([[1],[25],[20]])"
   ]
  },
  {
   "cell_type": "code",
   "execution_count": 301,
   "metadata": {
    "collapsed": true
   },
   "outputs": [],
   "source": [
    "def line1(x):\n",
    "    return (-(k[0][0] + (k[1][0]*x))) / k[2][0]\n",
    "\n",
    "def line2(x):\n",
    "    return (-(k[0][1] + (k[1][1]*x))) / k[2][1]\n",
    "\n",
    "def line3(x):\n",
    "    return (-(k[0][2] + (k[1][2]*x))) / k[2][2]"
   ]
  },
  {
   "cell_type": "code",
   "execution_count": 302,
   "metadata": {},
   "outputs": [
    {
     "data": {
      "image/png": "[encoded data removed]",
      "text/plain": [
       "<matplotlib.figure.Figure at 0x7fa32bca5710>"
      ]
     },
     "metadata": {},
     "output_type": "display_data"
    }
   ],
   "source": [
    "plt.scatter(x[:,1],x[:,2],c=y)\n",
    "xx=np.linspace(15,35)\n",
    "plt.axis([17,32.5,15,41])\n",
    "yy=line1(xx.reshape(xx.shape[0],1))\n",
    "yyy=line2(xx.reshape(xx.shape[0],1))\n",
    "yyyy=line3(xx.reshape(xx.shape[0],1))\n",
    "plt.plot(xx,yy)\n",
    "plt.plot(xx,yyy)\n",
    "plt.plot(xx,yyyy)\n",
    "plt.show()"
   ]
  },
  {
   "cell_type": "code",
   "execution_count": null,
   "metadata": {
    "collapsed": true
   },
   "outputs": [],
   "source": []
  },
  {
   "cell_type": "code",
   "execution_count": null,
   "metadata": {
    "collapsed": true
   },
   "outputs": [],
   "source": []
  },
  {
   "cell_type": "code",
   "execution_count": null,
   "metadata": {
    "collapsed": true
   },
   "outputs": [],
   "source": []
  },
  {
   "cell_type": "code",
   "execution_count": null,
   "metadata": {
    "collapsed": true
   },
   "outputs": [],
   "source": []
  },
  {
   "cell_type": "code",
   "execution_count": 293,
   "metadata": {},
   "outputs": [
    {
     "name": "stdout",
     "output_type": "stream",
     "text": [
      "[[ 4  6  2]\n",
      " [ 6 12 18]\n",
      " [ 2  4  8]] \n",
      "[[2]\n",
      " [6]\n",
      " [2]]\n"
     ]
    }
   ],
   "source": [
    "a=array([[4,6,2],[6,12,18],[2,4,8]])\n",
    "b=array([[2],[6],[2]])\n",
    "print a,'\\n',b"
   ]
  },
  {
   "cell_type": "code",
   "execution_count": 294,
   "metadata": {},
   "outputs": [
    {
     "name": "stdout",
     "output_type": "stream",
     "text": [
      "[[2 3 1]\n",
      " [1 2 3]\n",
      " [1 2 4]] \n",
      "\n",
      "[6, 6, 7]\n",
      "[[6]\n",
      " [6]\n",
      " [7]]\n"
     ]
    }
   ],
   "source": [
    "c=a/b\n",
    "print c,'\\n'\n",
    "print [sum(c[i]) for i in range(3)]\n",
    "s=array([[sum(c[i]) for i in range(3)]])\n",
    "print transpose(s)"
   ]
  },
  {
   "cell_type": "code",
   "execution_count": 39,
   "metadata": {},
   "outputs": [
    {
     "name": "stdout",
     "output_type": "stream",
     "text": [
      "[[6]\n",
      " [6]\n",
      " [7]]\n"
     ]
    }
   ],
   "source": [
    "s=transpose(s)\n",
    "print s"
   ]
  },
  {
   "cell_type": "code",
   "execution_count": 49,
   "metadata": {},
   "outputs": [
    {
     "name": "stdout",
     "output_type": "stream",
     "text": [
      "[6, 6]\n"
     ]
    }
   ],
   "source": [
    "su=[for i in range(0,2)]\n",
    "print su"
   ]
  },
  {
   "cell_type": "code",
   "execution_count": null,
   "metadata": {
    "collapsed": true
   },
   "outputs": [],
   "source": []
  }
 ],
 "metadata": {
  "kernelspec": {
   "display_name": "Python 2",
   "language": "python",
   "name": "python2"
  },
  "language_info": {
   "codemirror_mode": {
    "name": "ipython",
    "version": 2
   },
   "file_extension": ".py",
   "mimetype": "text/x-python",
   "name": "python",
   "nbconvert_exporter": "python",
   "pygments_lexer": "ipython2",
   "version": "2.7.13"
  }
 },
 "nbformat": 4,
 "nbformat_minor": 2
}
