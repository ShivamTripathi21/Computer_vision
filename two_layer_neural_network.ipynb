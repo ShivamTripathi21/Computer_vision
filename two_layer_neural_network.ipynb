{
 "cells": [
  {
   "cell_type": "code",
   "execution_count": 1,
   "metadata": {},
   "outputs": [
    {
     "name": "stdout",
     "output_type": "stream",
     "text": [
      "Hello, TensorFlow!\n"
     ]
    }
   ],
   "source": [
    "# Python\n",
    "import tensorflow as tf\n",
    "hello = tf.constant('Hello, TensorFlow!')\n",
    "sess = tf.Session()\n",
    "print(sess.run(hello))"
   ]
  },
  {
   "cell_type": "code",
   "execution_count": 2,
   "metadata": {},
   "outputs": [],
   "source": [
    "import numpy as np"
   ]
  },
  {
   "cell_type": "code",
   "execution_count": 3,
   "metadata": {},
   "outputs": [],
   "source": [
    "N, D, H= 64, 1000, 100\n"
   ]
  },
  {
   "cell_type": "code",
   "execution_count": 4,
   "metadata": {},
   "outputs": [],
   "source": [
    "with tf.device('/cpu:0'):\n",
    "    x=tf.placeholder(tf.float32, shape=(N, D))\n",
    "    y=tf.placeholder(tf.float32, shape=(N, D))\n",
    "    w1=tf.Variable(tf.random_normal((D, H)))\n",
    "    w2=tf.Variable(tf.random_normal((H, D)))\n",
    "    h = tf.maximum(tf.matmul(x, w1), 0)\n",
    "    y_pred = tf.matmul(h, w2)\n",
    "    diff = y_pred -y\n",
    "    loss = tf.reduce_mean(tf.reduce_sum(diff ** 2, axis=1))"
   ]
  },
  {
   "cell_type": "code",
   "execution_count": 5,
   "metadata": {},
   "outputs": [],
   "source": [
    "grad_w1, grad_w2 =tf.gradients(loss, [w1, w2])"
   ]
  },
  {
   "cell_type": "code",
   "execution_count": 6,
   "metadata": {},
   "outputs": [],
   "source": [
    "learning_rate = 1e-5\n",
    "new_w1 = w1.assign(w1 - learning_rate * grad_w1)\n",
    "new_w2 = w2.assign(w2 - learning_rate * grad_w2)\n",
    "updates = tf.group(new_w1, new_w2)"
   ]
  },
  {
   "cell_type": "code",
   "execution_count": 7,
   "metadata": {},
   "outputs": [
    {
     "name": "stdout",
     "output_type": "stream",
     "text": [
      "48221856.0\n",
      "18333684.0\n",
      "9488712.0\n",
      "5492534.5\n",
      "3401174.0\n",
      "2206040.8\n",
      "1477877.5\n",
      "1016064.25\n",
      "711666.5\n",
      "506230.53\n",
      "364951.47\n",
      "265981.22\n",
      "195521.47\n",
      "144982.11\n",
      "108253.89\n",
      "81375.26\n",
      "61550.625\n",
      "46801.86\n",
      "35770.664\n",
      "27507.422\n",
      "21278.365\n",
      "16556.955\n",
      "12971.061\n",
      "10235.588\n",
      "8140.981\n",
      "6531.971\n",
      "5292.2305\n",
      "4334.3857\n",
      "3592.632\n",
      "3017.025\n",
      "2569.459\n",
      "2220.2979\n",
      "1948.3081\n",
      "1735.968\n",
      "1569.7461\n",
      "1439.7241\n",
      "1337.888\n",
      "1258.0375\n",
      "1195.4248\n",
      "1146.2351\n",
      "1107.658\n",
      "1077.3607\n",
      "1053.5255\n",
      "1034.8147\n",
      "1020.1459\n",
      "1008.6145\n",
      "999.56055\n",
      "992.45496\n",
      "986.8869\n",
      "982.526\n"
     ]
    }
   ],
   "source": [
    "with tf.Session() as sess:\n",
    "    sess.run(tf.global_variables_initializer())\n",
    "    values = {\n",
    "        x: np.random.randn(N, D),\n",
    "        y: np.random.randn(N, D),\n",
    "    }\n",
    "    losses = []\n",
    "    for t in range(50):\n",
    "        loss_val, _ =sess.run([loss, updates], feed_dict=values)\n",
    "        print(loss_val)\n",
    "        "
   ]
  },
  {
   "cell_type": "code",
   "execution_count": null,
   "metadata": {},
   "outputs": [],
   "source": []
  }
 ],
 "metadata": {
  "kernelspec": {
   "display_name": "Python 2",
   "language": "python",
   "name": "python2"
  },
  "language_info": {
   "codemirror_mode": {
    "name": "ipython",
    "version": 2
   },
   "file_extension": ".py",
   "mimetype": "text/x-python",
   "name": "python",
   "nbconvert_exporter": "python",
   "pygments_lexer": "ipython2",
   "version": "2.7.14"
  }
 },
 "nbformat": 4,
 "nbformat_minor": 2
}
